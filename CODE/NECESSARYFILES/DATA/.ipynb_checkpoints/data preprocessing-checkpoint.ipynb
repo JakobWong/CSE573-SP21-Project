{
 "cells": [
  {
   "cell_type": "code",
   "execution_count": 164,
   "metadata": {},
   "outputs": [],
   "source": [
    "def data_reader(filename):\n",
    "    samples=[]\n",
    "    labels=[]\n",
    "    with open(filename) as f:\n",
    "        content = f.readlines()\n",
    "    content = [x.strip() for x in content]\n",
    "    for i in range(len(content)):\n",
    "        sample_label=content[i].split(\"#\")\n",
    "        samples.append(sample_label[0])\n",
    "        label= sample_label[4].split(\" \")\n",
    "        vector_label=[]\n",
    "        for i in range(len(label)):\n",
    "            if '=O' in label[i]:\n",
    "                vector_label.append(0)\n",
    "            elif '=T-POS' in label[i]:\n",
    "                vector_label.append(1)\n",
    "            elif '=T-NEU' in label[i]:\n",
    "                vector_label.append(2)\n",
    "            elif '=T-NEG' in label[i]:\n",
    "                vector_label.append(3)\n",
    "        labels.append(vector_label)\n",
    "    return [samples,labels]"
   ]
  },
  {
   "cell_type": "code",
   "execution_count": 165,
   "metadata": {},
   "outputs": [],
   "source": [
    "total_laptop_reviews=[]\n",
    "total_rest_reviews=[]\n",
    "total_laptop_labels=[]\n",
    "total_rest_labels=[]"
   ]
  },
  {
   "cell_type": "code",
   "execution_count": 166,
   "metadata": {},
   "outputs": [],
   "source": [
    "#laptop\n",
    "laptop14_train=data_reader(\"laptop14/train.txt\")\n",
    "laptop14_dev=data_reader(\"laptop14/dev.txt\")\n",
    "laptop14_test=data_reader(\"laptop14/test.txt\")\n",
    "\n",
    "#rest14\n",
    "rest14_train=data_reader(\"rest14/train.txt\")\n",
    "rest14_dev=data_reader(\"rest14/dev.txt\")\n",
    "rest14_test=data_reader(\"rest14/test.txt\")\n",
    "\n",
    "#rest15\n",
    "rest15_train=data_reader(\"rest15/train.txt\")\n",
    "rest15_dev=data_reader(\"rest15/dev.txt\")\n",
    "rest15_test=data_reader(\"rest15/test.txt\")\n",
    "\n",
    "#rest16\n",
    "rest16_train=data_reader(\"rest16/train.txt\")\n",
    "rest16_dev=data_reader(\"rest16/dev.txt\")\n",
    "rest16_test=data_reader(\"rest16/test.txt\")\n",
    "\n",
    "#test20\n",
    "test20_test=data_reader(\"test20/test.txt\")"
   ]
  },
  {
   "cell_type": "code",
   "execution_count": 167,
   "metadata": {},
   "outputs": [],
   "source": [
    "laptop_reviews=laptop14_train[0]+laptop14_dev[0]+laptop14_test[0]\n",
    "laptop_labels=laptop14_train[1]+laptop14_dev[1]+laptop14_test[1]"
   ]
  },
  {
   "cell_type": "code",
   "execution_count": 168,
   "metadata": {},
   "outputs": [],
   "source": [
    "rest_reviews=rest14_train[0]+rest14_dev[0]+rest14_test[0]+rest15_train[0]+rest15_dev[0]+rest15_test[0]+rest16_train[0]+rest16_dev[0]+rest16_test[0]"
   ]
  },
  {
   "cell_type": "code",
   "execution_count": 169,
   "metadata": {},
   "outputs": [
    {
     "data": {
      "text/plain": [
       "8513"
      ]
     },
     "execution_count": 169,
     "metadata": {},
     "output_type": "execute_result"
    }
   ],
   "source": [
    "len(rest_reviews)"
   ]
  },
  {
   "cell_type": "code",
   "execution_count": 170,
   "metadata": {},
   "outputs": [],
   "source": [
    "rest_labels=rest14_train[1]+rest14_dev[1]+rest14_test[1]+rest15_train[1]+rest15_dev[1]+rest15_test[1]+rest16_train[1]+rest16_dev[1]+rest16_test[1]"
   ]
  },
  {
   "cell_type": "code",
   "execution_count": 171,
   "metadata": {},
   "outputs": [
    {
     "data": {
      "text/plain": [
       "3845"
      ]
     },
     "execution_count": 171,
     "metadata": {},
     "output_type": "execute_result"
    }
   ],
   "source": [
    "len(laptop_labels)"
   ]
  },
  {
   "cell_type": "code",
   "execution_count": 172,
   "metadata": {},
   "outputs": [],
   "source": [
    "import itertools\n",
    "total_label=list(itertools.chain.from_iterable(rest_labels))\n",
    "\n",
    "import collections\n",
    "\n",
    "count_label = collections.Counter(total_label)\n",
    "import operator\n",
    "verb_dic = collections.Counter(count_label )\n",
    "sorted_verb_dic = dict(sorted(verb_dic.items(), key=operator.itemgetter(1),reverse=True))\n",
    "top_verb=[]\n",
    "for i in range(4):\n",
    "    top_verb.append(list(sorted_verb_dic.items())[i])"
   ]
  },
  {
   "cell_type": "code",
   "execution_count": 173,
   "metadata": {},
   "outputs": [
    {
     "data": {
      "text/plain": [
       "[(0, 113626), (1, 8520), (3, 2603), (2, 1374)]"
      ]
     },
     "execution_count": 173,
     "metadata": {},
     "output_type": "execute_result"
    }
   ],
   "source": [
    "top_verb"
   ]
  },
  {
   "cell_type": "code",
   "execution_count": 174,
   "metadata": {},
   "outputs": [],
   "source": [
    "import matplotlib.pyplot as plt\n",
    "import pandas as pd\n",
    "df=pd.DataFrame(top_verb) "
   ]
  },
  {
   "cell_type": "code",
   "execution_count": 175,
   "metadata": {},
   "outputs": [
    {
     "name": "stderr",
     "output_type": "stream",
     "text": [
      "/Users/dongziming/anaconda3/lib/python3.7/site-packages/ipykernel_launcher.py:2: SettingWithCopyWarning: \n",
      "A value is trying to be set on a copy of a slice from a DataFrame\n",
      "\n",
      "See the caveats in the documentation: https://pandas.pydata.org/pandas-docs/stable/user_guide/indexing.html#returning-a-view-versus-a-copy\n",
      "  \n",
      "/Users/dongziming/anaconda3/lib/python3.7/site-packages/ipykernel_launcher.py:3: SettingWithCopyWarning: \n",
      "A value is trying to be set on a copy of a slice from a DataFrame\n",
      "\n",
      "See the caveats in the documentation: https://pandas.pydata.org/pandas-docs/stable/user_guide/indexing.html#returning-a-view-versus-a-copy\n",
      "  This is separate from the ipykernel package so we can avoid doing imports until\n",
      "/Users/dongziming/anaconda3/lib/python3.7/site-packages/ipykernel_launcher.py:4: SettingWithCopyWarning: \n",
      "A value is trying to be set on a copy of a slice from a DataFrame\n",
      "\n",
      "See the caveats in the documentation: https://pandas.pydata.org/pandas-docs/stable/user_guide/indexing.html#returning-a-view-versus-a-copy\n",
      "  after removing the cwd from sys.path.\n"
     ]
    }
   ],
   "source": [
    "df[0][0]='O'\n",
    "df[0][1]='T-POS'\n",
    "df[0][2]='T-NEG'\n",
    "df[0][3]='T-NEU'"
   ]
  },
  {
   "cell_type": "code",
   "execution_count": 176,
   "metadata": {},
   "outputs": [],
   "source": [
    "df=df.drop([0],axis=0)"
   ]
  },
  {
   "cell_type": "code",
   "execution_count": 177,
   "metadata": {
    "scrolled": true
   },
   "outputs": [
    {
     "name": "stderr",
     "output_type": "stream",
     "text": [
      "/Users/dongziming/anaconda3/lib/python3.7/site-packages/ipykernel_launcher.py:21: SettingWithCopyWarning: \n",
      "A value is trying to be set on a copy of a slice from a DataFrame\n",
      "\n",
      "See the caveats in the documentation: https://pandas.pydata.org/pandas-docs/stable/user_guide/indexing.html#returning-a-view-versus-a-copy\n",
      "/Users/dongziming/anaconda3/lib/python3.7/site-packages/ipykernel_launcher.py:22: SettingWithCopyWarning: \n",
      "A value is trying to be set on a copy of a slice from a DataFrame\n",
      "\n",
      "See the caveats in the documentation: https://pandas.pydata.org/pandas-docs/stable/user_guide/indexing.html#returning-a-view-versus-a-copy\n",
      "/Users/dongziming/anaconda3/lib/python3.7/site-packages/ipykernel_launcher.py:23: SettingWithCopyWarning: \n",
      "A value is trying to be set on a copy of a slice from a DataFrame\n",
      "\n",
      "See the caveats in the documentation: https://pandas.pydata.org/pandas-docs/stable/user_guide/indexing.html#returning-a-view-versus-a-copy\n"
     ]
    }
   ],
   "source": [
    "import itertools\n",
    "total_laptop_label=list(itertools.chain.from_iterable(laptop_labels))\n",
    "\n",
    "import collections\n",
    "\n",
    "count_label = collections.Counter(total_laptop_label)\n",
    "import operator\n",
    "verb_dic = collections.Counter(total_laptop_label)\n",
    "sorted_verb_dic = dict(sorted(verb_dic.items(), key=operator.itemgetter(1),reverse=True))\n",
    "top_verb=[]\n",
    "for i in range(4):\n",
    "    top_verb.append(list(sorted_verb_dic.items())[i])\n",
    "\n",
    "top_verb\n",
    "\n",
    "import matplotlib.pyplot as plt\n",
    "import pandas as pd\n",
    "df1=pd.DataFrame(top_verb) \n",
    "\n",
    "df1[0][0]='O'\n",
    "df1[0][1]='T-POS'\n",
    "df1[0][2]='T-NEG'\n",
    "df1[0][3]='T-NEU'"
   ]
  },
  {
   "cell_type": "code",
   "execution_count": 178,
   "metadata": {},
   "outputs": [],
   "source": [
    "df1=df1.drop([0],axis=0)"
   ]
  },
  {
   "cell_type": "code",
   "execution_count": 181,
   "metadata": {},
   "outputs": [
    {
     "data": {
      "image/png": "[encoded data removed]",
      "text/plain": [
       "<Figure size 432x288 with 1 Axes>"
      ]
     },
     "metadata": {
      "needs_background": "light"
     },
     "output_type": "display_data"
    }
   ],
   "source": [
    "fig = plt.figure()\n",
    "ax = fig.add_axes([0,0,1,1])\n",
    "ax.bar(list(df[0]),list(df[1]),color=('Green'))\n",
    "plt.xlabel(\"Aspect Based Labels\")\n",
    "plt.ylabel(\"Frequency\")\n",
    "plt.title('ABSA Restaurant Reviews Labels Analysis',color=('Green'))\n",
    "plt.show()"
   ]
  },
  {
   "cell_type": "code",
   "execution_count": 182,
   "metadata": {},
   "outputs": [
    {
     "data": {
      "image/png": "[encoded data removed]",
      "text/plain": [
       "<Figure size 432x288 with 1 Axes>"
      ]
     },
     "metadata": {
      "needs_background": "light"
     },
     "output_type": "display_data"
    }
   ],
   "source": [
    "fig = plt.figure()\n",
    "ax = fig.add_axes([0,0,1,1])\n",
    "ax.bar(list(df1[0]),list(df1[1]),color=('blue'))\n",
    "plt.xlabel(\"Aspect Based Labels\")\n",
    "plt.ylabel(\"Frequency\")\n",
    "plt.title('ABSA Laptop Reviews Labels Analysis',color=('blue'))\n",
    "plt.show()"
   ]
  },
  {
   "cell_type": "code",
   "execution_count": null,
   "metadata": {},
   "outputs": [],
   "source": []
  }
 ],
 "metadata": {
  "kernelspec": {
   "display_name": "Python 3",
   "language": "python",
   "name": "python3"
  },
  "language_info": {
   "codemirror_mode": {
    "name": "ipython",
    "version": 3
   },
   "file_extension": ".py",
   "mimetype": "text/x-python",
   "name": "python",
   "nbconvert_exporter": "python",
   "pygments_lexer": "ipython3",
   "version": "3.7.3"
  }
 },
 "nbformat": 4,
 "nbformat_minor": 2
}

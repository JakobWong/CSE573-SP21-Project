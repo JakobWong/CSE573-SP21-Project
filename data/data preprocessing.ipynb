{
 "cells": [
  {
   "cell_type": "code",
   "execution_count": 6,
   "metadata": {},
   "outputs": [],
   "source": [
    "def data_reader(filename,limit_number):\n",
    "    samples=[]\n",
    "    labels=[]\n",
    "    with open(filename) as f:\n",
    "        content = f.readlines()\n",
    "    content = [x.strip() for x in content]\n",
    "    for i in range(limit_number):\n",
    "        sample_label=content[i].split(\"#\")\n",
    "        samples.append(sample_label[0])\n",
    "        label= sample_label[4].split(\" \")\n",
    "        vector_label=[]\n",
    "        for i in range(len(label)):\n",
    "            if '=O' in label[i]:\n",
    "                vector_label.append(0)\n",
    "            elif '=T-POS' in label[i]:\n",
    "                vector_label.append(1)\n",
    "            elif '=T-NEU' in label[i]:\n",
    "                vector_label.append(2)\n",
    "            elif '=T-NEG' in label[i]:\n",
    "                vector_label.append(3)\n",
    "        labels.append(vector_label)\n",
    "    return [samples,labels]"
   ]
  },
  {
   "cell_type": "code",
   "execution_count": 7,
   "metadata": {},
   "outputs": [],
   "source": [
    "a=data_reader(\"rest16/train.txt\",10)"
   ]
  },
  {
   "cell_type": "code",
   "execution_count": 8,
   "metadata": {},
   "outputs": [
    {
     "name": "stdout",
     "output_type": "stream",
     "text": [
      "10 10\n"
     ]
    }
   ],
   "source": [
    "print(len(a[0]),len(a[1]))"
   ]
  },
  {
   "cell_type": "code",
   "execution_count": 9,
   "metadata": {},
   "outputs": [
    {
     "name": "stdout",
     "output_type": "stream",
     "text": [
      "['Judging from previous posts this used to be a good place, but not any longer.', 'We, there were four of us, arrived at noon - the place was empty - and the staff acted like we were imposing on them and they were very rude.', 'They never brought us complimentary noodles, ignored repeated requests for sugar, and threw our dishes on the table.', 'The food was lousy - too sweet or too salty and the portions tiny.', 'After all that, they complained to me about the small tip.', 'Avoid this place!', 'I have eaten at Saul, many times, the food is always consistently, outrageously good.', 'Saul is the best restaurant on Smith Street and in Brooklyn.', 'The wine list is interesting and has many good values.', 'For the price, you cannot eat this well in Manhattan.']\n"
     ]
    }
   ],
   "source": [
    "print(a[0])"
   ]
  },
  {
   "cell_type": "code",
   "execution_count": 10,
   "metadata": {},
   "outputs": [
    {
     "name": "stdout",
     "output_type": "stream",
     "text": [
      "[[0, 0, 0, 0, 0, 0, 0, 0, 0, 0, 3, 0, 0, 0, 0, 0, 0], [0, 0, 0, 0, 0, 0, 0, 0, 0, 0, 0, 0, 0, 0, 0, 0, 0, 0, 0, 3, 0, 0, 0, 0, 0, 0, 0, 0, 0, 0, 0, 0, 0], [0, 0, 0, 0, 0, 0, 0, 0, 0, 0, 0, 0, 0, 0, 0, 0, 0, 0, 0, 0, 0], [0, 3, 0, 0, 0, 0, 0, 0, 0, 0, 0, 0, 3, 0, 0], [0, 0, 0, 0, 0, 0, 0, 0, 0, 0, 0, 0, 0], [0, 0, 3, 0], [0, 0, 0, 0, 0, 0, 0, 0, 0, 0, 1, 0, 0, 0, 0, 0, 0, 0], [1, 0, 0, 0, 0, 0, 0, 0, 0, 0, 0, 0], [0, 1, 1, 0, 0, 0, 0, 0, 0, 0, 0], [0, 0, 0, 0, 0, 0, 0, 0, 0, 0, 0, 0, 0]]\n"
     ]
    }
   ],
   "source": [
    "print(a[1])"
   ]
  },
  {
   "cell_type": "code",
   "execution_count": null,
   "metadata": {},
   "outputs": [],
   "source": []
  }
 ],
 "metadata": {
  "kernelspec": {
   "display_name": "Python 3",
   "language": "python",
   "name": "python3"
  },
  "language_info": {
   "codemirror_mode": {
    "name": "ipython",
    "version": 3
   },
   "file_extension": ".py",
   "mimetype": "text/x-python",
   "name": "python",
   "nbconvert_exporter": "python",
   "pygments_lexer": "ipython3",
   "version": "3.7.3"
  }
 },
 "nbformat": 4,
 "nbformat_minor": 2
}
